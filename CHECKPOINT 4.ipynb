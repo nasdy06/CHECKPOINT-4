{
 "cells": [
  {
   "cell_type": "markdown",
   "id": "63deb864",
   "metadata": {},
   "source": [
    "# Q1"
   ]
  },
  {
   "cell_type": "code",
   "execution_count": 1,
   "id": "74db6467",
   "metadata": {},
   "outputs": [
    {
     "data": {
      "text/plain": [
       "35"
      ]
     },
     "execution_count": 1,
     "metadata": {},
     "output_type": "execute_result"
    }
   ],
   "source": [
    "def maximum(a,b,c):\n",
    "    if a>=b and a>=c:\n",
    "        return a\n",
    "    elif b>=a and b>=c:\n",
    "        return b\n",
    "    else:\n",
    "        return c \n",
    "max = maximum(20, 35, 19)\n",
    "max"
   ]
  },
  {
   "cell_type": "markdown",
   "id": "bd0ab879",
   "metadata": {},
   "source": [
    "# Q2\n"
   ]
  },
  {
   "cell_type": "code",
   "execution_count": 2,
   "id": "8e70129a",
   "metadata": {},
   "outputs": [
    {
     "data": {
      "text/plain": [
       "(50, 30)"
      ]
     },
     "execution_count": 2,
     "metadata": {},
     "output_type": "execute_result"
    }
   ],
   "source": [
    "def calcul(a,b):\n",
    "    return a+b , a-b\n",
    "calcul(40,10)\n",
    "\n",
    "\n"
   ]
  },
  {
   "cell_type": "markdown",
   "id": "e5081a47",
   "metadata": {},
   "source": [
    "# Q3"
   ]
  },
  {
   "cell_type": "code",
   "execution_count": 3,
   "id": "19c129ea",
   "metadata": {},
   "outputs": [],
   "source": [
    "def addition(liste):\n",
    "    s=0\n",
    "    for i in range (len(liste)):\n",
    "        s=liste[i]+s \n",
    "    return s \n",
    "\n",
    "\n",
    "def multiplication(liste):\n",
    "    s=1\n",
    "    for i in range (len(liste)):\n",
    "        s=liste[i]*s \n",
    "    return s \n",
    "\n",
    "\n",
    "\n"
   ]
  },
  {
   "cell_type": "code",
   "execution_count": 4,
   "id": "4541a37b",
   "metadata": {},
   "outputs": [
    {
     "data": {
      "text/plain": [
       "(7, 30)"
      ]
     },
     "execution_count": 4,
     "metadata": {},
     "output_type": "execute_result"
    }
   ],
   "source": [
    "def both(liste):\n",
    "    p=[]\n",
    "    ps=[]\n",
    "    for i in range (len(liste)):\n",
    "        if i%2==0:\n",
    "            p.append(liste[i])\n",
    "        else :\n",
    "            ps.append(liste[i])\n",
    "    return addition(p),  multiplication(ps) \n",
    "both([1,5,4,6,2])"
   ]
  },
  {
   "cell_type": "markdown",
   "id": "dbceb3b0",
   "metadata": {},
   "source": [
    "# Q4"
   ]
  },
  {
   "cell_type": "code",
   "execution_count": 6,
   "id": "f3171064",
   "metadata": {},
   "outputs": [
    {
     "name": "stdout",
     "output_type": "stream",
     "text": [
      "green-red-yellow-black-white\n"
     ]
    },
    {
     "data": {
      "text/plain": [
       "'black-green-red-white-yellow'"
      ]
     },
     "execution_count": 6,
     "metadata": {},
     "output_type": "execute_result"
    }
   ],
   "source": [
    "def couleur():\n",
    "    p=input().split('-')\n",
    "    p.sort()\n",
    "    return '-'.join(p) \n",
    "couleur()\n",
    "    "
   ]
  },
  {
   "cell_type": "markdown",
   "id": "5b85dc5e",
   "metadata": {},
   "source": [
    "# Q5"
   ]
  },
  {
   "cell_type": "code",
   "execution_count": 26,
   "id": "7c168025",
   "metadata": {},
   "outputs": [
    {
     "name": "stdout",
     "output_type": "stream",
     "text": [
      "100,150,180\n"
     ]
    },
    {
     "data": {
      "text/plain": [
       "[18, 22, 24]"
      ]
     },
     "execution_count": 26,
     "metadata": {},
     "output_type": "execute_result"
    }
   ],
   "source": [
    "import math\n",
    "def calcul():\n",
    "    D=input().split(',')\n",
    "    liste=[]\n",
    "    for i in D:\n",
    "        Q=round(math.sqrt((2 * 50 * int(i))/30))\n",
    "        liste.append (Q)\n",
    "    return liste \n",
    "calcul()"
   ]
  }
 ],
 "metadata": {
  "kernelspec": {
   "display_name": "Python 3 (ipykernel)",
   "language": "python",
   "name": "python3"
  },
  "language_info": {
   "codemirror_mode": {
    "name": "ipython",
    "version": 3
   },
   "file_extension": ".py",
   "mimetype": "text/x-python",
   "name": "python",
   "nbconvert_exporter": "python",
   "pygments_lexer": "ipython3",
   "version": "3.9.12"
  }
 },
 "nbformat": 4,
 "nbformat_minor": 5
}
